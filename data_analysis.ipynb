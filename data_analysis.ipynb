{
 "cells": [
  {
   "cell_type": "markdown",
   "metadata": {},
   "source": [
    "# Set Up\n",
    "\n",
    "### Import necessary packages"
   ]
  },
  {
   "cell_type": "code",
   "execution_count": 9,
   "metadata": {},
   "outputs": [],
   "source": [
    "import pandas as pd\n",
    "import matplotlib.pyplot as plt"
   ]
  },
  {
   "cell_type": "markdown",
   "metadata": {},
   "source": [
    "### Import data"
   ]
  },
  {
   "cell_type": "code",
   "execution_count": 2,
   "metadata": {},
   "outputs": [
    {
     "data": {
      "text/html": [
       "<div>\n",
       "<style scoped>\n",
       "    .dataframe tbody tr th:only-of-type {\n",
       "        vertical-align: middle;\n",
       "    }\n",
       "\n",
       "    .dataframe tbody tr th {\n",
       "        vertical-align: top;\n",
       "    }\n",
       "\n",
       "    .dataframe thead th {\n",
       "        text-align: right;\n",
       "    }\n",
       "</style>\n",
       "<table border=\"1\" class=\"dataframe\">\n",
       "  <thead>\n",
       "    <tr style=\"text-align: right;\">\n",
       "      <th></th>\n",
       "      <th>Kind of Business</th>\n",
       "      <th>Date</th>\n",
       "      <th>Sales</th>\n",
       "    </tr>\n",
       "  </thead>\n",
       "  <tbody>\n",
       "    <tr>\n",
       "      <th>0</th>\n",
       "      <td>Retail and food services sales, total</td>\n",
       "      <td>2022-01-01</td>\n",
       "      <td>583761</td>\n",
       "    </tr>\n",
       "    <tr>\n",
       "      <th>1</th>\n",
       "      <td>Retail sales and food services excl motor vehi...</td>\n",
       "      <td>2022-01-01</td>\n",
       "      <td>469700</td>\n",
       "    </tr>\n",
       "    <tr>\n",
       "      <th>2</th>\n",
       "      <td>Retail sales and food services excl gasoline s...</td>\n",
       "      <td>2022-01-01</td>\n",
       "      <td>536142</td>\n",
       "    </tr>\n",
       "    <tr>\n",
       "      <th>3</th>\n",
       "      <td>Retail sales and food services excl motor vehi...</td>\n",
       "      <td>2022-01-01</td>\n",
       "      <td>422081</td>\n",
       "    </tr>\n",
       "    <tr>\n",
       "      <th>4</th>\n",
       "      <td>Retail sales, total</td>\n",
       "      <td>2022-01-01</td>\n",
       "      <td>516923</td>\n",
       "    </tr>\n",
       "  </tbody>\n",
       "</table>\n",
       "</div>"
      ],
      "text/plain": [
       "                                    Kind of Business        Date   Sales\n",
       "0              Retail and food services sales, total  2022-01-01  583761\n",
       "1  Retail sales and food services excl motor vehi...  2022-01-01  469700\n",
       "2  Retail sales and food services excl gasoline s...  2022-01-01  536142\n",
       "3  Retail sales and food services excl motor vehi...  2022-01-01  422081\n",
       "4                                Retail sales, total  2022-01-01  516923"
      ]
     },
     "execution_count": 2,
     "metadata": {},
     "output_type": "execute_result"
    }
   ],
   "source": [
    "relative_path = \"Data/clean_us_monthly_retail_sales_1992_to_2022.csv\"\n",
    "df = pd.read_csv(relative_path)\n",
    "df.head()"
   ]
  },
  {
   "cell_type": "code",
   "execution_count": 3,
   "metadata": {},
   "outputs": [
    {
     "data": {
      "text/html": [
       "<div>\n",
       "<style scoped>\n",
       "    .dataframe tbody tr th:only-of-type {\n",
       "        vertical-align: middle;\n",
       "    }\n",
       "\n",
       "    .dataframe tbody tr th {\n",
       "        vertical-align: top;\n",
       "    }\n",
       "\n",
       "    .dataframe thead th {\n",
       "        text-align: right;\n",
       "    }\n",
       "</style>\n",
       "<table border=\"1\" class=\"dataframe\">\n",
       "  <thead>\n",
       "    <tr style=\"text-align: right;\">\n",
       "      <th></th>\n",
       "      <th>Kind of Business</th>\n",
       "      <th>Date</th>\n",
       "      <th>Sales</th>\n",
       "    </tr>\n",
       "  </thead>\n",
       "  <tbody>\n",
       "    <tr>\n",
       "      <th>count</th>\n",
       "      <td>24180</td>\n",
       "      <td>24180</td>\n",
       "      <td>24180</td>\n",
       "    </tr>\n",
       "    <tr>\n",
       "      <th>unique</th>\n",
       "      <td>65</td>\n",
       "      <td>372</td>\n",
       "      <td>16731</td>\n",
       "    </tr>\n",
       "    <tr>\n",
       "      <th>top</th>\n",
       "      <td>Retail and food services sales, total</td>\n",
       "      <td>2022-01-01</td>\n",
       "      <td>(NA)</td>\n",
       "    </tr>\n",
       "    <tr>\n",
       "      <th>freq</th>\n",
       "      <td>372</td>\n",
       "      <td>65</td>\n",
       "      <td>492</td>\n",
       "    </tr>\n",
       "  </tbody>\n",
       "</table>\n",
       "</div>"
      ],
      "text/plain": [
       "                             Kind of Business        Date  Sales\n",
       "count                                   24180       24180  24180\n",
       "unique                                     65         372  16731\n",
       "top     Retail and food services sales, total  2022-01-01   (NA)\n",
       "freq                                      372          65    492"
      ]
     },
     "execution_count": 3,
     "metadata": {},
     "output_type": "execute_result"
    }
   ],
   "source": [
    "df.describe()"
   ]
  },
  {
   "cell_type": "code",
   "execution_count": 4,
   "metadata": {},
   "outputs": [
    {
     "data": {
      "text/plain": [
       "Kind of Business    object\n",
       "Date                object\n",
       "Sales               object\n",
       "dtype: object"
      ]
     },
     "execution_count": 4,
     "metadata": {},
     "output_type": "execute_result"
    }
   ],
   "source": [
    "df.dtypes"
   ]
  },
  {
   "cell_type": "code",
   "execution_count": 5,
   "metadata": {},
   "outputs": [
    {
     "data": {
      "text/plain": [
       "Kind of Business            object\n",
       "Date                datetime64[ns]\n",
       "Sales                       object\n",
       "dtype: object"
      ]
     },
     "execution_count": 5,
     "metadata": {},
     "output_type": "execute_result"
    }
   ],
   "source": [
    "df[\"Date\"] = pd.to_datetime(df[\"Date\"])\n",
    "df.dtypes"
   ]
  },
  {
   "cell_type": "code",
   "execution_count": 6,
   "metadata": {},
   "outputs": [
    {
     "data": {
      "text/plain": [
       "Kind of Business            object\n",
       "Date                datetime64[ns]\n",
       "Sales                      float64\n",
       "dtype: object"
      ]
     },
     "execution_count": 6,
     "metadata": {},
     "output_type": "execute_result"
    }
   ],
   "source": [
    "df[\"Sales\"] = pd.to_numeric(df[\"Sales\"],errors=\"coerce\")\n",
    "df.dtypes"
   ]
  },
  {
   "cell_type": "code",
   "execution_count": 7,
   "metadata": {},
   "outputs": [
    {
     "data": {
      "text/html": [
       "<div>\n",
       "<style scoped>\n",
       "    .dataframe tbody tr th:only-of-type {\n",
       "        vertical-align: middle;\n",
       "    }\n",
       "\n",
       "    .dataframe tbody tr th {\n",
       "        vertical-align: top;\n",
       "    }\n",
       "\n",
       "    .dataframe thead th {\n",
       "        text-align: right;\n",
       "    }\n",
       "</style>\n",
       "<table border=\"1\" class=\"dataframe\">\n",
       "  <thead>\n",
       "    <tr style=\"text-align: right;\">\n",
       "      <th></th>\n",
       "      <th>Date</th>\n",
       "      <th>Sales</th>\n",
       "    </tr>\n",
       "  </thead>\n",
       "  <tbody>\n",
       "    <tr>\n",
       "      <th>count</th>\n",
       "      <td>23427</td>\n",
       "      <td>23427.000000</td>\n",
       "    </tr>\n",
       "    <tr>\n",
       "      <th>mean</th>\n",
       "      <td>2007-07-17 18:32:59.562043648</td>\n",
       "      <td>44574.681265</td>\n",
       "    </tr>\n",
       "    <tr>\n",
       "      <th>min</th>\n",
       "      <td>1992-01-01 00:00:00</td>\n",
       "      <td>11.000000</td>\n",
       "    </tr>\n",
       "    <tr>\n",
       "      <th>25%</th>\n",
       "      <td>2000-01-16 12:00:00</td>\n",
       "      <td>2611.000000</td>\n",
       "    </tr>\n",
       "    <tr>\n",
       "      <th>50%</th>\n",
       "      <td>2007-08-01 00:00:00</td>\n",
       "      <td>9237.000000</td>\n",
       "    </tr>\n",
       "    <tr>\n",
       "      <th>75%</th>\n",
       "      <td>2015-02-01 00:00:00</td>\n",
       "      <td>36925.500000</td>\n",
       "    </tr>\n",
       "    <tr>\n",
       "      <th>max</th>\n",
       "      <td>2022-12-01 00:00:00</td>\n",
       "      <td>741521.000000</td>\n",
       "    </tr>\n",
       "    <tr>\n",
       "      <th>std</th>\n",
       "      <td>NaN</td>\n",
       "      <td>92410.746793</td>\n",
       "    </tr>\n",
       "  </tbody>\n",
       "</table>\n",
       "</div>"
      ],
      "text/plain": [
       "                                Date          Sales\n",
       "count                          23427   23427.000000\n",
       "mean   2007-07-17 18:32:59.562043648   44574.681265\n",
       "min              1992-01-01 00:00:00      11.000000\n",
       "25%              2000-01-16 12:00:00    2611.000000\n",
       "50%              2007-08-01 00:00:00    9237.000000\n",
       "75%              2015-02-01 00:00:00   36925.500000\n",
       "max              2022-12-01 00:00:00  741521.000000\n",
       "std                              NaN   92410.746793"
      ]
     },
     "execution_count": 7,
     "metadata": {},
     "output_type": "execute_result"
    }
   ],
   "source": [
    "df.dropna(subset=['Sales'], inplace=True)\n",
    "df.describe()"
   ]
  },
  {
   "cell_type": "markdown",
   "metadata": {},
   "source": [
    "# Analysis\n",
    "\n",
    "## Trends\n",
    "\n",
    "### Simple Trend\n",
    "\n",
    "#### Trends on total retail and food services sales in the US\n",
    "\n",
    "On the x-axis, we have months. On the y-axis, we have total monthly retail and food services sales in the US in millions of US dolars."
   ]
  },
  {
   "cell_type": "code",
   "execution_count": 8,
   "metadata": {},
   "outputs": [
    {
     "data": {
      "text/html": [
       "<div>\n",
       "<style scoped>\n",
       "    .dataframe tbody tr th:only-of-type {\n",
       "        vertical-align: middle;\n",
       "    }\n",
       "\n",
       "    .dataframe tbody tr th {\n",
       "        vertical-align: top;\n",
       "    }\n",
       "\n",
       "    .dataframe thead th {\n",
       "        text-align: right;\n",
       "    }\n",
       "</style>\n",
       "<table border=\"1\" class=\"dataframe\">\n",
       "  <thead>\n",
       "    <tr style=\"text-align: right;\">\n",
       "      <th></th>\n",
       "      <th>Kind of Business</th>\n",
       "      <th>Date</th>\n",
       "      <th>Sales</th>\n",
       "    </tr>\n",
       "  </thead>\n",
       "  <tbody>\n",
       "    <tr>\n",
       "      <th>0</th>\n",
       "      <td>Retail and food services sales, total</td>\n",
       "      <td>2022-01-01</td>\n",
       "      <td>583761.0</td>\n",
       "    </tr>\n",
       "    <tr>\n",
       "      <th>65</th>\n",
       "      <td>Retail and food services sales, total</td>\n",
       "      <td>2022-02-01</td>\n",
       "      <td>577319.0</td>\n",
       "    </tr>\n",
       "    <tr>\n",
       "      <th>130</th>\n",
       "      <td>Retail and food services sales, total</td>\n",
       "      <td>2022-03-01</td>\n",
       "      <td>679465.0</td>\n",
       "    </tr>\n",
       "    <tr>\n",
       "      <th>195</th>\n",
       "      <td>Retail and food services sales, total</td>\n",
       "      <td>2022-04-01</td>\n",
       "      <td>679473.0</td>\n",
       "    </tr>\n",
       "    <tr>\n",
       "      <th>260</th>\n",
       "      <td>Retail and food services sales, total</td>\n",
       "      <td>2022-05-01</td>\n",
       "      <td>702760.0</td>\n",
       "    </tr>\n",
       "  </tbody>\n",
       "</table>\n",
       "</div>"
      ],
      "text/plain": [
       "                          Kind of Business       Date     Sales\n",
       "0    Retail and food services sales, total 2022-01-01  583761.0\n",
       "65   Retail and food services sales, total 2022-02-01  577319.0\n",
       "130  Retail and food services sales, total 2022-03-01  679465.0\n",
       "195  Retail and food services sales, total 2022-04-01  679473.0\n",
       "260  Retail and food services sales, total 2022-05-01  702760.0"
      ]
     },
     "execution_count": 8,
     "metadata": {},
     "output_type": "execute_result"
    }
   ],
   "source": [
    "retail_food_service = df.loc[df[\"Kind of Business\"]==\"Retail and food services sales, total\"]\n",
    "retail_food_service.set_index('Date', inplace=True)\n",
    "retail_food_service.head()"
   ]
  },
  {
   "cell_type": "code",
   "execution_count": 16,
   "metadata": {},
   "outputs": [
    {
     "data": {
      "image/png": "[encoded data removed]",
      "text/plain": [
       "<Figure size 1000x600 with 1 Axes>"
      ]
     },
     "metadata": {},
     "output_type": "display_data"
    }
   ],
   "source": [
    "# Sort values \n",
    "retail_food_service = retail_food_service.sort_values(by = \"Date\")\n",
    "\n",
    "# Plot the time series\n",
    "plt.figure(figsize=(10, 6)) \n",
    "plt.plot(retail_food_service.index, retail_food_service['Sales'], marker=',', linestyle='-')\n",
    "\n",
    "# Add labels and title\n",
    "plt.xlabel('Year')\n",
    "plt.ylabel('$MM Sales')\n",
    "plt.title('US Monthly Retail and Food Services Sales')\n",
    "\n",
    "# Rotate x-axis labels for better readability (optional)\n",
    "plt.xticks(rotation=45)\n",
    "\n",
    "# Display the plot\n",
    "plt.tight_layout()\n",
    "plt.show()\n"
   ]
  },
  {
   "cell_type": "code",
   "execution_count": 15,
   "metadata": {},
   "outputs": [
    {
     "data": {
      "text/html": [
       "<div>\n",
       "<style scoped>\n",
       "    .dataframe tbody tr th:only-of-type {\n",
       "        vertical-align: middle;\n",
       "    }\n",
       "\n",
       "    .dataframe tbody tr th {\n",
       "        vertical-align: top;\n",
       "    }\n",
       "\n",
       "    .dataframe thead th {\n",
       "        text-align: right;\n",
       "    }\n",
       "</style>\n",
       "<table border=\"1\" class=\"dataframe\">\n",
       "  <thead>\n",
       "    <tr style=\"text-align: right;\">\n",
       "      <th></th>\n",
       "      <th>Kind of Business</th>\n",
       "      <th>Sales</th>\n",
       "    </tr>\n",
       "    <tr>\n",
       "      <th>Date</th>\n",
       "      <th></th>\n",
       "      <th></th>\n",
       "    </tr>\n",
       "  </thead>\n",
       "  <tbody>\n",
       "    <tr>\n",
       "      <th>2022-01-01</th>\n",
       "      <td>Retail and food services sales, total</td>\n",
       "      <td>583761.0</td>\n",
       "    </tr>\n",
       "    <tr>\n",
       "      <th>2022-02-01</th>\n",
       "      <td>Retail and food services sales, total</td>\n",
       "      <td>577319.0</td>\n",
       "    </tr>\n",
       "    <tr>\n",
       "      <th>2022-03-01</th>\n",
       "      <td>Retail and food services sales, total</td>\n",
       "      <td>679465.0</td>\n",
       "    </tr>\n",
       "    <tr>\n",
       "      <th>2022-04-01</th>\n",
       "      <td>Retail and food services sales, total</td>\n",
       "      <td>679473.0</td>\n",
       "    </tr>\n",
       "    <tr>\n",
       "      <th>2022-05-01</th>\n",
       "      <td>Retail and food services sales, total</td>\n",
       "      <td>702760.0</td>\n",
       "    </tr>\n",
       "    <tr>\n",
       "      <th>2022-06-01</th>\n",
       "      <td>Retail and food services sales, total</td>\n",
       "      <td>693577.0</td>\n",
       "    </tr>\n",
       "    <tr>\n",
       "      <th>2022-07-01</th>\n",
       "      <td>Retail and food services sales, total</td>\n",
       "      <td>685483.0</td>\n",
       "    </tr>\n",
       "    <tr>\n",
       "      <th>2022-08-01</th>\n",
       "      <td>Retail and food services sales, total</td>\n",
       "      <td>698833.0</td>\n",
       "    </tr>\n",
       "    <tr>\n",
       "      <th>2022-09-01</th>\n",
       "      <td>Retail and food services sales, total</td>\n",
       "      <td>660765.0</td>\n",
       "    </tr>\n",
       "    <tr>\n",
       "      <th>2022-10-01</th>\n",
       "      <td>Retail and food services sales, total</td>\n",
       "      <td>683198.0</td>\n",
       "    </tr>\n",
       "    <tr>\n",
       "      <th>2022-11-01</th>\n",
       "      <td>Retail and food services sales, total</td>\n",
       "      <td>684790.0</td>\n",
       "    </tr>\n",
       "    <tr>\n",
       "      <th>2022-12-01</th>\n",
       "      <td>Retail and food services sales, total</td>\n",
       "      <td>741521.0</td>\n",
       "    </tr>\n",
       "    <tr>\n",
       "      <th>2021-01-01</th>\n",
       "      <td>Retail and food services sales, total</td>\n",
       "      <td>516129.0</td>\n",
       "    </tr>\n",
       "    <tr>\n",
       "      <th>2021-02-01</th>\n",
       "      <td>Retail and food services sales, total</td>\n",
       "      <td>489457.0</td>\n",
       "    </tr>\n",
       "    <tr>\n",
       "      <th>2021-03-01</th>\n",
       "      <td>Retail and food services sales, total</td>\n",
       "      <td>627660.0</td>\n",
       "    </tr>\n",
       "    <tr>\n",
       "      <th>2021-04-01</th>\n",
       "      <td>Retail and food services sales, total</td>\n",
       "      <td>623746.0</td>\n",
       "    </tr>\n",
       "    <tr>\n",
       "      <th>2021-05-01</th>\n",
       "      <td>Retail and food services sales, total</td>\n",
       "      <td>639899.0</td>\n",
       "    </tr>\n",
       "    <tr>\n",
       "      <th>2021-06-01</th>\n",
       "      <td>Retail and food services sales, total</td>\n",
       "      <td>632181.0</td>\n",
       "    </tr>\n",
       "    <tr>\n",
       "      <th>2021-07-01</th>\n",
       "      <td>Retail and food services sales, total</td>\n",
       "      <td>630778.0</td>\n",
       "    </tr>\n",
       "    <tr>\n",
       "      <th>2021-08-01</th>\n",
       "      <td>Retail and food services sales, total</td>\n",
       "      <td>626430.0</td>\n",
       "    </tr>\n",
       "  </tbody>\n",
       "</table>\n",
       "</div>"
      ],
      "text/plain": [
       "                                 Kind of Business     Sales\n",
       "Date                                                       \n",
       "2022-01-01  Retail and food services sales, total  583761.0\n",
       "2022-02-01  Retail and food services sales, total  577319.0\n",
       "2022-03-01  Retail and food services sales, total  679465.0\n",
       "2022-04-01  Retail and food services sales, total  679473.0\n",
       "2022-05-01  Retail and food services sales, total  702760.0\n",
       "2022-06-01  Retail and food services sales, total  693577.0\n",
       "2022-07-01  Retail and food services sales, total  685483.0\n",
       "2022-08-01  Retail and food services sales, total  698833.0\n",
       "2022-09-01  Retail and food services sales, total  660765.0\n",
       "2022-10-01  Retail and food services sales, total  683198.0\n",
       "2022-11-01  Retail and food services sales, total  684790.0\n",
       "2022-12-01  Retail and food services sales, total  741521.0\n",
       "2021-01-01  Retail and food services sales, total  516129.0\n",
       "2021-02-01  Retail and food services sales, total  489457.0\n",
       "2021-03-01  Retail and food services sales, total  627660.0\n",
       "2021-04-01  Retail and food services sales, total  623746.0\n",
       "2021-05-01  Retail and food services sales, total  639899.0\n",
       "2021-06-01  Retail and food services sales, total  632181.0\n",
       "2021-07-01  Retail and food services sales, total  630778.0\n",
       "2021-08-01  Retail and food services sales, total  626430.0"
      ]
     },
     "execution_count": 15,
     "metadata": {},
     "output_type": "execute_result"
    }
   ],
   "source": []
  }
 ],
 "metadata": {
  "kernelspec": {
   "display_name": "Python 3 (ipykernel)",
   "language": "python",
   "name": "python3"
  },
  "language_info": {
   "codemirror_mode": {
    "name": "ipython",
    "version": 3
   },
   "file_extension": ".py",
   "mimetype": "text/x-python",
   "name": "python",
   "nbconvert_exporter": "python",
   "pygments_lexer": "ipython3",
   "version": "3.10.0"
  },
  "orig_nbformat": 4
 },
 "nbformat": 4,
 "nbformat_minor": 2
}
