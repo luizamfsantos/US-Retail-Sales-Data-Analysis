{
 "cells": [
  {
   "cell_type": "markdown",
   "metadata": {},
   "source": [
    "# Set Up\n",
    "\n",
    "### Import necessary packages"
   ]
  },
  {
   "cell_type": "code",
   "execution_count": 1,
   "metadata": {},
   "outputs": [],
   "source": [
    "import pandas as pd\n",
    "from datetime import datetime, timedelta"
   ]
  },
  {
   "cell_type": "markdown",
   "metadata": {},
   "source": [
    "### Import data"
   ]
  },
  {
   "cell_type": "markdown",
   "metadata": {},
   "source": []
  },
  {
   "cell_type": "code",
   "execution_count": 4,
   "metadata": {},
   "outputs": [],
   "source": [
    "relative_path = \"Data/monthly_retail_trade_report_1992to05.2023.xlsx\"\n",
    "\n",
    "# Subset rows only to get not adjusted sales values\n",
    "start_row = 4\n",
    "end_row = 70\n",
    "\n",
    "# Subset columns to get business type and sales per month\n",
    "columns_range = \"B:N\"\n",
    "\n",
    "# Loop through every sheet\n",
    "current_year = 2022\n",
    "end_year = 1991  # Stop at 1991 since you mentioned until 1992\n",
    "\n",
    "# Loop through the years in reverse order\n",
    "for year in range(current_year, end_year, -1):\n",
    "    sheet_name = str(year)\n",
    "    df_name = \"df_\" + str(year)\n",
    "    \n",
    "    # Read the Excel sheet for the current year\n",
    "    df = pd.read_excel(relative_path, sheet_name=sheet_name, header=None,\n",
    "                       skiprows=start_row, nrows=end_row - start_row + 1,\n",
    "                       usecols=columns_range)\n",
    "    \n",
    "    # Assign the DataFrame to a variable with dynamic name\n",
    "    globals()[df_name] = df"
   ]
  },
  {
   "cell_type": "markdown",
   "metadata": {},
   "source": [
    "# Data Cleaning"
   ]
  },
  {
   "cell_type": "markdown",
   "metadata": {},
   "source": [
    "### Change Column Names"
   ]
  },
  {
   "cell_type": "code",
   "execution_count": 7,
   "metadata": {},
   "outputs": [
    {
     "name": "stdout",
     "output_type": "stream",
     "text": [
      "                                    Kind of Business          2          3  \\\n",
      "0                                                NaN  Jan. 2022  Feb. 2022   \n",
      "1                                       NOT ADJUSTED        NaN        NaN   \n",
      "2              Retail and food services sales, total     583761     577319   \n",
      "3  Retail sales and food services excl motor vehi...     469700     459828   \n",
      "4  Retail sales and food services excl gasoline s...     536142     529214   \n",
      "\n",
      "           4          5         6          7          8          9         10  \\\n",
      "0  Mar. 2022  Apr. 2022  May 2022  Jun. 2022  Jul. 2022  Aug. 2022  Sep. 2022   \n",
      "1        NaN        NaN       NaN        NaN        NaN        NaN        NaN   \n",
      "2     679465     679473    702760     693577     685483     698833     660765   \n",
      "3     539027     542012    570623     561127     557906     562924     535423   \n",
      "4     616940     616286    631649     620064     613183     632519     600510   \n",
      "\n",
      "          11         12         13  \n",
      "0  Oct. 2022  Nov. 2022  Dec. 2022  \n",
      "1        NaN        NaN        NaN  \n",
      "2     683198     684790     741521  \n",
      "3     556461     567249     618540  \n",
      "4     620095     627076     688622  \n"
     ]
    }
   ],
   "source": [
    "# Modify the first column\n",
    "\n",
    "dataframes = [globals()[f\"df_{year}\"] for year in range(2022, 1991, -1)]\n",
    "\n",
    "new_column_name = \"Kind of Business\"\n",
    "\n",
    "for df in dataframes:\n",
    "    df.rename(columns={df.columns[0]: new_column_name}, inplace=True)\n",
    "\n",
    "# Example of accessing one of the modified dataframes\n",
    "print(df_2022.head())\n"
   ]
  },
  {
   "cell_type": "code",
   "execution_count": null,
   "metadata": {},
   "outputs": [],
   "source": [
    "def first_days_of_months(year):\n",
    "    first_days = []\n",
    "    for month in range(1, 13):\n",
    "        first_day = datetime(year, month, 1)\n",
    "        first_days.append(first_day)\n",
    "    return first_days\n",
    "\n",
    "year = 2022\n",
    "\n",
    "column_mapping = {i: date.strftime(\"%Y-%m-%d\") for i, date in enumerate(first_days_of_months(year), start=2)}\n",
    "\n",
    "df_2022.rename(columns=column_mapping, inplace=True)\n",
    "\n",
    "print(df_2022.head())\n"
   ]
  },
  {
   "cell_type": "code",
   "execution_count": 8,
   "metadata": {},
   "outputs": [
    {
     "name": "stdout",
     "output_type": "stream",
     "text": [
      "                                    Kind of Business 2022-01-01 2022-02-01  \\\n",
      "0                                                NaN  Jan. 2022  Feb. 2022   \n",
      "1                                       NOT ADJUSTED        NaN        NaN   \n",
      "2              Retail and food services sales, total     583761     577319   \n",
      "3  Retail sales and food services excl motor vehi...     469700     459828   \n",
      "4  Retail sales and food services excl gasoline s...     536142     529214   \n",
      "\n",
      "  2022-03-01 2022-04-01 2022-05-01 2022-06-01 2022-07-01 2022-08-01  \\\n",
      "0  Mar. 2022  Apr. 2022   May 2022  Jun. 2022  Jul. 2022  Aug. 2022   \n",
      "1        NaN        NaN        NaN        NaN        NaN        NaN   \n",
      "2     679465     679473     702760     693577     685483     698833   \n",
      "3     539027     542012     570623     561127     557906     562924   \n",
      "4     616940     616286     631649     620064     613183     632519   \n",
      "\n",
      "  2022-09-01 2022-10-01 2022-11-01 2022-12-01  \n",
      "0  Sep. 2022  Oct. 2022  Nov. 2022  Dec. 2022  \n",
      "1        NaN        NaN        NaN        NaN  \n",
      "2     660765     683198     684790     741521  \n",
      "3     535423     556461     567249     618540  \n",
      "4     600510     620095     627076     688622  \n"
     ]
    }
   ],
   "source": [
    "def first_days_of_months(year):\n",
    "    first_days = []\n",
    "    for month in range(1, 13):\n",
    "        first_day = datetime(year, month, 1)\n",
    "        first_days.append(first_day)\n",
    "    return first_days\n",
    "\n",
    "dataframes = [globals()[f\"df_{year}\"] for year in range(2022, 1991, -1)]\n",
    "\n",
    "for year, df in zip(range(2022, 1991, -1), dataframes):\n",
    "    column_mapping = {i: date.strftime(\"%Y-%m-%d\") for i, date in enumerate(first_days_of_months(year), start=2)}\n",
    "    df.rename(columns=column_mapping, inplace=True)\n",
    "\n",
    "# Example of accessing one of the modified dataframes\n",
    "print(df_2022.head())"
   ]
  },
  {
   "cell_type": "markdown",
   "metadata": {},
   "source": [
    "### Drop first two rows"
   ]
  },
  {
   "cell_type": "code",
   "execution_count": 9,
   "metadata": {},
   "outputs": [
    {
     "name": "stdout",
     "output_type": "stream",
     "text": [
      "                                    Kind of Business 2022-01-01 2022-02-01  \\\n",
      "2              Retail and food services sales, total     583761     577319   \n",
      "3  Retail sales and food services excl motor vehi...     469700     459828   \n",
      "4  Retail sales and food services excl gasoline s...     536142     529214   \n",
      "5  Retail sales and food services excl motor vehi...     422081     411723   \n",
      "6                                Retail sales, total     516923     507901   \n",
      "\n",
      "  2022-03-01 2022-04-01 2022-05-01 2022-06-01 2022-07-01 2022-08-01  \\\n",
      "2     679465     679473     702760     693577     685483     698833   \n",
      "3     539027     542012     570623     561127     557906     562924   \n",
      "4     616940     616286     631649     620064     613183     632519   \n",
      "5     476502     478825     499512     487614     485606     496610   \n",
      "6     598541     596690     616626     609743     599929     613508   \n",
      "\n",
      "  2022-09-01 2022-10-01 2022-11-01 2022-12-01  \n",
      "2     660765     683198     684790     741521  \n",
      "3     535423     556461     567249     618540  \n",
      "4     600510     620095     627076     688622  \n",
      "5     475168     493358     509535     565641  \n",
      "6     577966     597170     605205     654825  \n"
     ]
    }
   ],
   "source": [
    "dataframes = [globals()[f\"df_{year}\"] for year in range(2022, 1991, -1)]\n",
    "\n",
    "for df in dataframes:\n",
    "    df.drop([0, 1], inplace=True)\n",
    "\n",
    "# Example of accessing one of the modified dataframes\n",
    "print(df_2022.head())\n"
   ]
  },
  {
   "cell_type": "markdown",
   "metadata": {},
   "source": [
    "### Combine all years in one DataFrame"
   ]
  },
  {
   "cell_type": "code",
   "execution_count": 10,
   "metadata": {},
   "outputs": [
    {
     "name": "stdout",
     "output_type": "stream",
     "text": [
      "                                    Kind of Business        Date   Sales\n",
      "0              Retail and food services sales, total  2022-01-01  583761\n",
      "1  Retail sales and food services excl motor vehi...  2022-01-01  469700\n",
      "2  Retail sales and food services excl gasoline s...  2022-01-01  536142\n",
      "3  Retail sales and food services excl motor vehi...  2022-01-01  422081\n",
      "4                                Retail sales, total  2022-01-01  516923\n"
     ]
    }
   ],
   "source": [
    "# Create an empty list to store the melted dataframes\n",
    "all_melted_dataframes = []\n",
    "\n",
    "dataframes = [globals()[f\"df_{year}\"] for year in range(2022, 1991, -1)]\n",
    "\n",
    "for year, df in zip(range(2022, 1991, -1), dataframes):\n",
    "    df_melted = pd.melt(df, id_vars=\"Kind of Business\", var_name=\"Date\", value_name=\"Sales\")\n",
    "    \n",
    "    # Append the melted dataframe to the list\n",
    "    all_melted_dataframes.append(df_melted)\n",
    "\n",
    "# Concatenate all the melted dataframes into one big dataframe\n",
    "big_dataframe = pd.concat(all_melted_dataframes, ignore_index=True)\n",
    "\n",
    "# Print a portion of the big dataframe\n",
    "print(big_dataframe.head())\n"
   ]
  },
  {
   "cell_type": "markdown",
   "metadata": {},
   "source": [
    "### Remove NaN"
   ]
  },
  {
   "cell_type": "code",
   "execution_count": 11,
   "metadata": {},
   "outputs": [],
   "source": [
    "big_dataframe.dropna(subset=['Sales'], inplace=True)"
   ]
  },
  {
   "cell_type": "markdown",
   "metadata": {},
   "source": [
    "# Export Clean Data"
   ]
  },
  {
   "cell_type": "code",
   "execution_count": 12,
   "metadata": {},
   "outputs": [],
   "source": [
    "big_dataframe.to_csv('Data/clean_us_monthly_retail_sales_1992_to_2022.csv', index=False)"
   ]
  }
 ],
 "metadata": {
  "kernelspec": {
   "display_name": "Python 3 (ipykernel)",
   "language": "python",
   "name": "python3"
  },
  "language_info": {
   "codemirror_mode": {
    "name": "ipython",
    "version": 3
   },
   "file_extension": ".py",
   "mimetype": "text/x-python",
   "name": "python",
   "nbconvert_exporter": "python",
   "pygments_lexer": "ipython3",
   "version": "3.10.0"
  },
  "orig_nbformat": 4
 },
 "nbformat": 4,
 "nbformat_minor": 2
}
